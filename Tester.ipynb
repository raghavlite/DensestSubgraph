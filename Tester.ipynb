{
 "metadata": {
  "name": "",
  "signature": "sha256:b83934332d6790a1025b9e304ce835815cac40279060f379bd8f80a13763b068"
 },
 "nbformat": 3,
 "nbformat_minor": 0,
 "worksheets": [
  {
   "cells": [
    {
     "cell_type": "code",
     "collapsed": false,
     "input": [
      "%matplotlib inline "
     ],
     "language": "python",
     "metadata": {},
     "outputs": [],
     "prompt_number": 24
    },
    {
     "cell_type": "code",
     "collapsed": false,
     "input": [
      "import pylab as py\n"
     ],
     "language": "python",
     "metadata": {},
     "outputs": [],
     "prompt_number": 25
    },
    {
     "cell_type": "code",
     "collapsed": false,
     "input": [
      "import numpy as np"
     ],
     "language": "python",
     "metadata": {},
     "outputs": [],
     "prompt_number": 26
    },
    {
     "cell_type": "code",
     "collapsed": false,
     "input": [
      "from graph_tool.all import *"
     ],
     "language": "python",
     "metadata": {},
     "outputs": [],
     "prompt_number": 27
    },
    {
     "cell_type": "code",
     "collapsed": false,
     "input": [
      "g=Graph()"
     ],
     "language": "python",
     "metadata": {},
     "outputs": [],
     "prompt_number": 28
    },
    {
     "cell_type": "code",
     "collapsed": false,
     "input": [
      "for i in range(0,5):\n",
      "    g.add_vertex() ;\n",
      "    print \"added no\",i;\n",
      "\"End\" "
     ],
     "language": "python",
     "metadata": {},
     "outputs": [
      {
       "output_type": "stream",
       "stream": "stdout",
       "text": [
        "added no 0\n",
        "added no 1\n",
        "added no 2\n",
        "added no 3\n",
        "added no 4\n"
       ]
      },
      {
       "metadata": {},
       "output_type": "pyout",
       "prompt_number": 29,
       "text": [
        "'End'"
       ]
      }
     ],
     "prompt_number": 29
    },
    {
     "cell_type": "code",
     "collapsed": false,
     "input": [
      "g.add_edge(g.vertex(0), g.vertex(1))\n",
      "g.add_edge(g.vertex(1), g.vertex(2))\n",
      "g.add_edge(g.vertex(2), g.vertex(3))\n",
      "g.add_edge(g.vertex(4), g.vertex(3))\n",
      "g.add_edge(g.vertex(1), g.vertex(4))\n",
      "g.add_edge(g.vertex(2), g.vertex(4))"
     ],
     "language": "python",
     "metadata": {},
     "outputs": [
      {
       "metadata": {},
       "output_type": "pyout",
       "prompt_number": 30,
       "text": [
        "<Edge object with source '2' and target '4' at 0x7f15f170ec30>"
       ]
      }
     ],
     "prompt_number": 30
    },
    {
     "cell_type": "code",
     "collapsed": false,
     "input": [
      "graph_draw(g, vertex_text=g.vertex_index, vertex_font_size=18,output_size=(200, 200), output=\"two-nodes.png\")"
     ],
     "language": "python",
     "metadata": {},
     "outputs": [
      {
       "metadata": {},
       "output_type": "display_data",
       "png": "[encoded data removed]",
       "text": [
        "<IPython.core.display.Image at 0x7f15f022e290>"
       ]
      },
      {
       "metadata": {},
       "output_type": "pyout",
       "prompt_number": 31,
       "text": [
        "<PropertyMap object with key type 'Vertex' and value type 'vector<double>', for Graph 0x7f15f01b5c50, at 0x7f1637335850>"
       ]
      }
     ],
     "prompt_number": 31
    },
    {
     "cell_type": "code",
     "collapsed": false,
     "input": [
      "n=g.num_vertices();"
     ],
     "language": "python",
     "metadata": {},
     "outputs": [],
     "prompt_number": 32
    },
    {
     "cell_type": "code",
     "collapsed": false,
     "input": [],
     "language": "python",
     "metadata": {},
     "outputs": [],
     "prompt_number": 32
    },
    {
     "cell_type": "code",
     "collapsed": false,
     "input": [],
     "language": "python",
     "metadata": {},
     "outputs": [],
     "prompt_number": 32
    },
    {
     "cell_type": "code",
     "collapsed": false,
     "input": [
      "\n",
      "fil=g.new_vertex_property(\"bool\");"
     ],
     "language": "python",
     "metadata": {},
     "outputs": [],
     "prompt_number": 33
    },
    {
     "cell_type": "code",
     "collapsed": false,
     "input": [
      "fil"
     ],
     "language": "python",
     "metadata": {},
     "outputs": [
      {
       "metadata": {},
       "output_type": "pyout",
       "prompt_number": 34,
       "text": [
        "<PropertyMap object with key type 'Vertex' and value type 'bool', for Graph 0x7f15f01b5c50, at 0x7f15f01b5e10>"
       ]
      }
     ],
     "prompt_number": 34
    },
    {
     "cell_type": "code",
     "collapsed": false,
     "input": [
      "for i in range(0,n):\n",
      "    print fil[g.vertex(i)];\n",
      "\"End for\""
     ],
     "language": "python",
     "metadata": {},
     "outputs": [
      {
       "output_type": "stream",
       "stream": "stdout",
       "text": [
        "0\n",
        "0\n",
        "0\n",
        "0\n",
        "0\n"
       ]
      },
      {
       "metadata": {},
       "output_type": "pyout",
       "prompt_number": 37,
       "text": [
        "'End for'"
       ]
      }
     ],
     "prompt_number": 37
    },
    {
     "cell_type": "code",
     "collapsed": false,
     "input": [
      "def checker(fil,n):\n",
      "    for i in range(0,n):\n",
      "        print fil[g.vertex(i)];\n",
      "    \"End for\"\n",
      "\"End Def\""
     ],
     "language": "python",
     "metadata": {},
     "outputs": [
      {
       "ename": "SyntaxError",
       "evalue": "invalid syntax (<ipython-input-40-f41604edf643>, line 1)",
       "output_type": "pyerr",
       "traceback": [
        "\u001b[1;36m  File \u001b[1;32m\"<ipython-input-40-f41604edf643>\"\u001b[1;36m, line \u001b[1;32m1\u001b[0m\n\u001b[1;33m    def checker(*fil,n):\u001b[0m\n\u001b[1;37m                     ^\u001b[0m\n\u001b[1;31mSyntaxError\u001b[0m\u001b[1;31m:\u001b[0m invalid syntax\n"
       ]
      }
     ],
     "prompt_number": 40
    },
    {
     "cell_type": "code",
     "collapsed": false,
     "input": [
      "checker(fil,n)"
     ],
     "language": "python",
     "metadata": {},
     "outputs": [
      {
       "output_type": "stream",
       "stream": "stdout",
       "text": [
        "0\n",
        "0\n",
        "0\n",
        "0\n",
        "0\n"
       ]
      }
     ],
     "prompt_number": 39
    },
    {
     "cell_type": "code",
     "collapsed": false,
     "input": [],
     "language": "python",
     "metadata": {},
     "outputs": []
    },
    {
     "cell_type": "code",
     "collapsed": false,
     "input": [],
     "language": "python",
     "metadata": {},
     "outputs": []
    },
    {
     "cell_type": "code",
     "collapsed": false,
     "input": [],
     "language": "python",
     "metadata": {},
     "outputs": []
    },
    {
     "cell_type": "code",
     "collapsed": false,
     "input": [],
     "language": "python",
     "metadata": {},
     "outputs": [],
     "prompt_number": 19
    },
    {
     "cell_type": "code",
     "collapsed": false,
     "input": [
      "def modifycap(g,s,t,go,gn,cap):\n",
      "    \n",
      "    for e in g.edges():\n",
      "        if  e.target()==t:    \n",
      "            cap[e]=cap[e]-2*go+2*gn\n",
      "        \"end\"\n",
      "    \"end for\"\n",
      "    \n",
      "    \n",
      "\"end func\"\n",
      "        \n",
      "        \n",
      "    \n",
      "\n",
      "\n",
      "\n",
      "\n",
      "def maxdsubgraph(g,n,m,cap):\n",
      "  \n",
      "    \n",
      "    go=0;\n",
      "    l=0;\n",
      "    u=m;\n",
      "    b=1/(n*(n-1));\n",
      "    res=-123;\n",
      "\n",
      "    print \"Inside MaxdSubgraph\";\n",
      "    \n",
      "    \n",
      "    for e in g.edges():\n",
      "        print cap[e],e.source(),e.target();\n",
      "    \"end for\"\n",
      "    \n",
      "    \n",
      "    \n",
      "    \n",
      "    \n",
      "    while (u-l)>b :\n",
      "        \n",
      "        gn=(u+l)/2;\n",
      "        \n",
      "        modifycap(g,g.vertex(m),g.vertex(m+1),go,gn,cap)\n",
      "        \n",
      "        print \"yeah done with while\";\n",
      "        \n",
      "        break;\n",
      "        \n",
      "        \"\"\"\n",
      "        #get cut\n",
      "        s=g.vertex(m);\n",
      "        t=g.vertex(m+1);\n",
      "        \n",
      "        \n",
      "        res23 = push_relabel_max_flow(g, s, t, cap);\n",
      "        \n",
      "        part = min_st_cut(g, s, cap, res23);\n",
      "        #\n",
      "        g.set_vertex_filter(part, inverted=False);\n",
      "        \n",
      "        \n",
      "        \n",
      "        \n",
      "        if g.num_vertices()==1:\n",
      "            print \"min cut 1 obtained\";\n",
      "            u=gn;\n",
      "            \n",
      "        else :\n",
      "            l=gn;\n",
      "            res=part;\n",
      "        \"end if\"\n",
      "        go=gn;\n",
      "        g.clear_filters();\n",
      "         \"\"\"\n",
      "    \"end while\"\n",
      "    if(res!=-123):\n",
      "        g.set_vertex_filter(res,inverted=false);\n",
      "    \"end if\"\n",
      "    \n",
      "\n",
      "\"end func\"\n",
      "\n",
      "\n",
      "\n",
      "\n",
      "\n",
      "\n",
      "def dsg(g,m,n):\n",
      "    \n",
      "    print \"m \",m,\"n\",n,\"\\n\\n\\n\";\n",
      "    \n",
      "    G=Graph();\n",
      "    \n",
      "    G.add_vertex(n);\n",
      "    \n",
      "    for e in g.edges():\n",
      "        G.add_edge(e.source(),e.target());\n",
      "        G.add_edge(e.target(),e.source());\n",
      "    \"End for\"\n",
      "    \n",
      "    s=G.add_vertex();\n",
      "    t=G.add_vertex();\n",
      "    \n",
      "    \n",
      "  \n",
      "    \n",
      "    for i in range(0,n):\n",
      "        G.add_edge(s,G.vertex(i));\n",
      "        G.add_edge(G.vertex(i),t);\n",
      "    \"End For\"\n",
      "    \n",
      "    \n",
      "    cap = G.new_edge_property(\"float\")                \n",
      "\n",
      "    \n",
      "    \n",
      "    \n",
      "    for e in G.edges():\n",
      "        print \"Source\",e.source(),\"target\",e.target();\n",
      "        \n",
      "        if e.source()==s:\n",
      " #           print \"found source\";\n",
      "            cap[e]=m;\n",
      "        elif e.target()==t:\n",
      " #           print \"found target\";\n",
      "            cap[e]=m-(e.source().in_degree()-1);\n",
      "        else :\n",
      "#            print \"else mei\";\n",
      "            cap[e]=1;\n",
      "        \"end if\"\n",
      "    \"end for\"\n",
      "    \n",
      "    \n",
      "    \n",
      "    for e in G.edges():\n",
      "        print cap[e],e.source(),e.target();\n",
      "    \"end for\"    \n",
      "    \n",
      "    maxdsubgraph(G,n,m,cap);\n",
      "    \n",
      "    graph_draw(G, vertex_text=G.vertex_index, vertex_font_size=20,output_size=(1500, 1500), output=\"two-nodes.png\");\n",
      "    \n",
      "    \n",
      "    \n",
      "\"end def\""
     ],
     "language": "python",
     "metadata": {},
     "outputs": [
      {
       "metadata": {},
       "output_type": "pyout",
       "prompt_number": 20,
       "text": [
        "'end def'"
       ]
      }
     ],
     "prompt_number": 20
    },
    {
     "cell_type": "code",
     "collapsed": false,
     "input": [],
     "language": "python",
     "metadata": {},
     "outputs": [],
     "prompt_number": 28
    },
    {
     "cell_type": "code",
     "collapsed": false,
     "input": [],
     "language": "python",
     "metadata": {},
     "outputs": [],
     "prompt_number": 28
    },
    {
     "cell_type": "code",
     "collapsed": false,
     "input": [],
     "language": "python",
     "metadata": {},
     "outputs": [],
     "prompt_number": 28
    },
    {
     "cell_type": "code",
     "collapsed": false,
     "input": [],
     "language": "python",
     "metadata": {},
     "outputs": [],
     "prompt_number": 28
    },
    {
     "cell_type": "code",
     "collapsed": false,
     "input": [
      "dsg(g,g.num_edges(),g.num_vertices());"
     ],
     "language": "python",
     "metadata": {},
     "outputs": [
      {
       "output_type": "stream",
       "stream": "stdout",
       "text": [
        "m  6 n 5 \n",
        "\n",
        "\n",
        "\n",
        "Source 0 target 1\n",
        "Source 0 target 6\n",
        "Source 1 target 0\n",
        "Source 1 target 2\n",
        "Source 1 target 4\n",
        "Source 1 target 6\n",
        "Source 2 target 1\n",
        "Source 2 target 3\n",
        "Source 2 target 4\n",
        "Source 2 target 6\n",
        "Source 3 target 2\n",
        "Source 3 target 4\n",
        "Source 3 target 6\n",
        "Source 4 target 1\n",
        "Source 4 target 2\n",
        "Source 4 target 3\n",
        "Source 4 target 6\n",
        "Source 5 target 0\n",
        "Source 5 target 1\n",
        "Source 5 target 2\n",
        "Source 5 target 3\n",
        "Source 5 target 4\n",
        "1.0 0 1\n",
        "5.0 0 6\n",
        "1.0 1 0\n",
        "1.0 1 2\n",
        "1.0 1 4\n",
        "3.0 1 6\n",
        "1.0 2 1\n",
        "1.0 2 3\n",
        "1.0 2 4\n",
        "3.0 2 6\n",
        "1.0 3 2\n",
        "1.0 3 4\n",
        "4.0 3 6\n",
        "1.0 4 1\n",
        "1.0 4 2\n",
        "1.0 4 3\n",
        "3.0 4 6\n",
        "6.0 5 0\n",
        "6.0 5 1\n",
        "6.0 5 2\n",
        "6.0 5 3\n",
        "6.0 5 4\n",
        "Inside MaxdSubgraph\n",
        "1.0 0 1\n",
        "5.0 0 6\n",
        "1.0 1 0\n",
        "1.0 1 2\n",
        "1.0 1 4\n",
        "3.0 1 6\n",
        "1.0 2 1\n",
        "1.0 2 3\n",
        "1.0 2 4\n",
        "3.0 2 6\n",
        "1.0 3 2\n",
        "1.0 3 4\n",
        "4.0 3 6\n",
        "1.0 4 1\n",
        "1.0 4 2\n",
        "1.0 4 3\n",
        "3.0 4 6\n",
        "6.0 5 0\n",
        "6.0 5 1\n",
        "6.0 5 2\n",
        "6.0 5 3\n",
        "6.0 5 4\n",
        "yeah done with while\n"
       ]
      }
     ],
     "prompt_number": 29
    },
    {
     "cell_type": "code",
     "collapsed": false,
     "input": [],
     "language": "python",
     "metadata": {},
     "outputs": [],
     "prompt_number": 0
    },
    {
     "cell_type": "code",
     "collapsed": false,
     "input": [],
     "language": "python",
     "metadata": {},
     "outputs": [],
     "prompt_number": 0
    },
    {
     "cell_type": "code",
     "collapsed": false,
     "input": [],
     "language": "python",
     "metadata": {},
     "outputs": [],
     "prompt_number": 0
    },
    {
     "cell_type": "code",
     "collapsed": false,
     "input": [],
     "language": "python",
     "metadata": {},
     "outputs": [],
     "prompt_number": 0
    },
    {
     "cell_type": "code",
     "collapsed": false,
     "input": [],
     "language": "python",
     "metadata": {},
     "outputs": [],
     "prompt_number": 0
    },
    {
     "cell_type": "code",
     "collapsed": false,
     "input": [],
     "language": "python",
     "metadata": {},
     "outputs": [],
     "prompt_number": 0
    },
    {
     "cell_type": "code",
     "collapsed": false,
     "input": [],
     "language": "python",
     "metadata": {},
     "outputs": [],
     "prompt_number": 0
    },
    {
     "cell_type": "code",
     "collapsed": false,
     "input": [
      "bb"
     ],
     "language": "python",
     "metadata": {},
     "outputs": [],
     "prompt_number": 0
    },
    {
     "cell_type": "code",
     "collapsed": false,
     "input": [
      "luco=100000000000000000000000000"
     ],
     "language": "python",
     "metadata": {},
     "outputs": [],
     "prompt_number": 41
    },
    {
     "cell_type": "code",
     "collapsed": false,
     "input": [
      "luco"
     ],
     "language": "python",
     "metadata": {},
     "outputs": [
      {
       "metadata": {},
       "output_type": "pyout",
       "prompt_number": 42,
       "text": [
        "100000000000000000000000000L"
       ]
      }
     ],
     "prompt_number": 42
    },
    {
     "cell_type": "code",
     "collapsed": false,
     "input": [
      "luco=10000000000000000000000000000000000000000000000000000000000000000000000000000000000"
     ],
     "language": "python",
     "metadata": {},
     "outputs": [],
     "prompt_number": 43
    },
    {
     "cell_type": "code",
     "collapsed": false,
     "input": [
      "luco\n"
     ],
     "language": "python",
     "metadata": {},
     "outputs": [
      {
       "metadata": {},
       "output_type": "pyout",
       "prompt_number": 44,
       "text": [
        "10000000000000000000000000000000000000000000000000000000000000000000000000000000000L"
       ]
      }
     ],
     "prompt_number": 44
    },
    {
     "cell_type": "code",
     "collapsed": false,
     "input": [],
     "language": "python",
     "metadata": {},
     "outputs": [],
     "prompt_number": 0
    },
    {
     "cell_type": "code",
     "collapsed": false,
     "input": [],
     "language": "python",
     "metadata": {},
     "outputs": [],
     "prompt_number": 0
    },
    {
     "cell_type": "code",
     "collapsed": false,
     "input": [],
     "language": "python",
     "metadata": {},
     "outputs": [],
     "prompt_number": 0
    },
    {
     "cell_type": "code",
     "collapsed": false,
     "input": [],
     "language": "python",
     "metadata": {},
     "outputs": []
    }
   ],
   "metadata": {}
  }
 ]
}