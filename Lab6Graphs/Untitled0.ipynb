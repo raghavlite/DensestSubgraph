{
 "metadata": {
  "name": "",
  "signature": "sha256:be6dec66f7671d0f2f71507e561f1fd8fd12714abbf8dcc482246b2f1dafcd08"
 },
 "nbformat": 3,
 "nbformat_minor": 0,
 "worksheets": [
  {
   "cells": [
    {
     "cell_type": "heading",
     "level": 1,
     "metadata": {},
     "source": [
      "Lab report\n"
     ]
    },
    {
     "cell_type": "code",
     "collapsed": false,
     "input": [
      "import numpy as np\n",
      "import pylab as pl\n",
      "import matplotlib.pyplot as plt"
     ],
     "language": "python",
     "metadata": {},
     "outputs": [],
     "prompt_number": 96
    },
    {
     "cell_type": "code",
     "collapsed": false,
     "input": [
      "Vab=[230,210,180,130,100,90]\n",
      "If=[1.48,1.2,0.94,0.6,0.44,0.38]\n",
      "\n",
      "Vab1=[130,100,90]\n",
      "If1=[0.6,0.44,0.38]\n",
      "\n",
      "\n"
     ],
     "language": "python",
     "metadata": {},
     "outputs": []
    },
    {
     "cell_type": "code",
     "collapsed": false,
     "input": [
      "p = np.polyfit(If1,Vab1,1)\n",
      "print p\n",
      "print type(p)\n"
     ],
     "language": "python",
     "metadata": {},
     "outputs": [
      {
       "output_type": "stream",
       "stream": "stdout",
       "text": [
        "[ 182.98969072   20.05154639]\n",
        "<type 'numpy.ndarray'>\n"
       ]
      }
     ],
     "prompt_number": 87
    },
    {
     "cell_type": "code",
     "collapsed": false,
     "input": [
      "pl.clf() # clear the figure\n",
      "pl.plot(If,Vab,'b-',label='Air Gap Line')\n",
      "pl.plot(If,np.polyval(p,If),'r--',label='OCC')\n",
      "pl.legend(loc='best')\n",
      "pl.show()\n",
      "# repeated from above\n",
      "# plt.plot(If1,p[0]*If1+p[1],'r-') # A red solid line\n",
      "# plt.xlabel(\"Field current [If]\") # labels again\n",
      "# plt.ylabel(\"Open Circuit voltage [Vab]\")\n"
     ],
     "language": "python",
     "metadata": {},
     "outputs": []
    },
    {
     "cell_type": "code",
     "collapsed": false,
     "input": [
      "Ia=[7.5,6.4,5.4,4.8,4.6]\n",
      "If2=[0.6,0.5,0.42,0.38,0.36]\n"
     ],
     "language": "python",
     "metadata": {},
     "outputs": [],
     "prompt_number": 80
    },
    {
     "cell_type": "code",
     "collapsed": false,
     "input": [
      "p = np.polyfit(If2,Ia,1)"
     ],
     "language": "python",
     "metadata": {},
     "outputs": [],
     "prompt_number": 81
    },
    {
     "cell_type": "code",
     "collapsed": false,
     "input": [
      "pl.clf() # clear the figure\n",
      "\n",
      "pl.plot(If,np.polyval(p,If),'r-')\n",
      "pl.show()"
     ],
     "language": "python",
     "metadata": {},
     "outputs": [],
     "prompt_number": 83
    },
    {
     "cell_type": "heading",
     "level": 1,
     "metadata": {},
     "source": [
      "Load Characteristic\n"
     ]
    },
    {
     "cell_type": "code",
     "collapsed": false,
     "input": [
      "Ia=[7.5,6.5,5,3.4,1.5,0]\n",
      "VR2=[0.02,0.0015,0.008,0.02,0.03,0.04]\n",
      "VR1=[0.14,0.101,0.05,0.027,0.006,0]\n"
     ],
     "language": "python",
     "metadata": {},
     "outputs": [],
     "prompt_number": 103
    },
    {
     "cell_type": "code",
     "collapsed": false,
     "input": [
      "pl.clf() # clear the figure\n",
      "pl.xlabel(\"Load current [Ia]A\") # labels again\n",
      "pl.ylabel(\"Voltage Regulation [VR]p.u. th,pt\")\n",
      "pl.plot(Ia,VR2,'b-',label='Practical')\n",
      "pl.plot(Ia,VR1,'r--',label='Theoritical')\n",
      "pl.legend(loc='best')\n",
      "pl.show()"
     ],
     "language": "python",
     "metadata": {},
     "outputs": [],
     "prompt_number": 104
    },
    {
     "cell_type": "code",
     "collapsed": false,
     "input": [],
     "language": "python",
     "metadata": {},
     "outputs": []
    }
   ],
   "metadata": {}
  }
 ]
}