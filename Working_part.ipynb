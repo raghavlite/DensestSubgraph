{
 "metadata": {
  "name": "",
  "signature": "sha256:09fcd03a8f9e8d283ac5000bb7cf44b153b4baaf2a2e5a83ae5978e911cbd391"
 },
 "nbformat": 3,
 "nbformat_minor": 0,
 "worksheets": [
  {
   "cells": [
    {
     "cell_type": "code",
     "collapsed": false,
     "input": [
      "%matplotlib inline "
     ],
     "language": "python",
     "metadata": {},
     "outputs": [],
     "prompt_number": 48
    },
    {
     "cell_type": "code",
     "collapsed": false,
     "input": [
      "import pylab as py\n"
     ],
     "language": "python",
     "metadata": {},
     "outputs": [],
     "prompt_number": 49
    },
    {
     "cell_type": "code",
     "collapsed": false,
     "input": [
      "import numpy as np"
     ],
     "language": "python",
     "metadata": {},
     "outputs": [],
     "prompt_number": 50
    },
    {
     "cell_type": "code",
     "collapsed": false,
     "input": [
      "from graph_tool.all import *"
     ],
     "language": "python",
     "metadata": {},
     "outputs": [],
     "prompt_number": 51
    },
    {
     "cell_type": "code",
     "collapsed": false,
     "input": [
      "g=Graph(directed=False)"
     ],
     "language": "python",
     "metadata": {},
     "outputs": [],
     "prompt_number": 52
    },
    {
     "cell_type": "code",
     "collapsed": false,
     "input": [
      "for i in range(0,5):\n",
      "    g.add_vertex() ;\n",
      "    print \"added no\",i;\n",
      "\"End\" "
     ],
     "language": "python",
     "metadata": {},
     "outputs": [
      {
       "output_type": "stream",
       "stream": "stdout",
       "text": [
        "added no 0\n",
        "added no 1\n",
        "added no 2\n",
        "added no 3\n",
        "added no 4\n"
       ]
      },
      {
       "metadata": {},
       "output_type": "pyout",
       "prompt_number": 53,
       "text": [
        "'End'"
       ]
      }
     ],
     "prompt_number": 53
    },
    {
     "cell_type": "code",
     "collapsed": false,
     "input": [
      "g.add_edge(g.vertex(0), g.vertex(1))\n",
      "g.add_edge(g.vertex(1), g.vertex(2))\n",
      "g.add_edge(g.vertex(2), g.vertex(3))\n",
      "g.add_edge(g.vertex(4), g.vertex(3))\n",
      "g.add_edge(g.vertex(1), g.vertex(4))\n",
      "g.add_edge(g.vertex(2), g.vertex(4))"
     ],
     "language": "python",
     "metadata": {},
     "outputs": [
      {
       "metadata": {},
       "output_type": "pyout",
       "prompt_number": 54,
       "text": [
        "<Edge object with source '2' and target '4' at 0x7f238428e938>"
       ]
      }
     ],
     "prompt_number": 54
    },
    {
     "cell_type": "code",
     "collapsed": false,
     "input": [
      "graph_draw(g, vertex_text=g.vertex_index, vertex_font_size=18,output_size=(200, 200), output=\"two-nodes.png\")"
     ],
     "language": "python",
     "metadata": {},
     "outputs": [
      {
       "metadata": {},
       "output_type": "display_data",
       "png": "[encoded data removed]",
       "text": [
        "<IPython.core.display.Image at 0x7f23842449d0>"
       ]
      },
      {
       "metadata": {},
       "output_type": "pyout",
       "prompt_number": 55,
       "text": [
        "<PropertyMap object with key type 'Vertex' and value type 'vector<double>', for Graph 0x7f2384244a90, at 0x7f2384f587d0>"
       ]
      }
     ],
     "prompt_number": 55
    },
    {
     "cell_type": "code",
     "collapsed": false,
     "input": [
      "g.add_edge(g.vertex(1), g.vertex(3))"
     ],
     "language": "python",
     "metadata": {},
     "outputs": [
      {
       "metadata": {},
       "output_type": "pyout",
       "prompt_number": 56,
       "text": [
        "<Edge object with source '1' and target '3' at 0x7f238428ee90>"
       ]
      }
     ],
     "prompt_number": 56
    },
    {
     "cell_type": "code",
     "collapsed": false,
     "input": [
      "graph_draw(g, vertex_text=g.vertex_index, vertex_font_size=18,output_size=(200, 200), output=\"two-nodes.png\")"
     ],
     "language": "python",
     "metadata": {},
     "outputs": [
      {
       "metadata": {},
       "output_type": "display_data",
       "png": "[encoded data removed]",
       "text": [
        "<IPython.core.display.Image at 0x7f2384244710>"
       ]
      },
      {
       "metadata": {},
       "output_type": "pyout",
       "prompt_number": 57,
       "text": [
        "<PropertyMap object with key type 'Vertex' and value type 'vector<double>', for Graph 0x7f2384244a90, at 0x7f2384289f90>"
       ]
      }
     ],
     "prompt_number": 57
    },
    {
     "cell_type": "code",
     "collapsed": false,
     "input": [
      "\n",
      "g.add_vertex(5);\n"
     ],
     "language": "python",
     "metadata": {},
     "outputs": [],
     "prompt_number": 58
    },
    {
     "cell_type": "code",
     "collapsed": false,
     "input": [
      "graph_draw(g, vertex_text=g.vertex_index, vertex_font_size=18,output_size=(200, 200), output=\"two-nodes.png\")"
     ],
     "language": "python",
     "metadata": {},
     "outputs": [
      {
       "metadata": {},
       "output_type": "display_data",
       "png": "[encoded data removed]",
       "text": [
        "<IPython.core.display.Image at 0x7f2384244490>"
       ]
      },
      {
       "metadata": {},
       "output_type": "pyout",
       "prompt_number": 59,
       "text": [
        "<PropertyMap object with key type 'Vertex' and value type 'vector<double>', for Graph 0x7f2384244a90, at 0x7f23cab4d290>"
       ]
      }
     ],
     "prompt_number": 59
    },
    {
     "cell_type": "code",
     "collapsed": false,
     "input": [
      "g.add_edge(g.vertex(7),g.vertex(4));"
     ],
     "language": "python",
     "metadata": {},
     "outputs": [],
     "prompt_number": 60
    },
    {
     "cell_type": "code",
     "collapsed": false,
     "input": [
      "g.add_edge(g.vertex(8),g.vertex(3));"
     ],
     "language": "python",
     "metadata": {},
     "outputs": [],
     "prompt_number": 61
    },
    {
     "cell_type": "code",
     "collapsed": false,
     "input": [
      "g.add_edge(g.vertex(2),g.vertex(5));"
     ],
     "language": "python",
     "metadata": {},
     "outputs": [],
     "prompt_number": 62
    },
    {
     "cell_type": "code",
     "collapsed": false,
     "input": [
      "g.add_edge(g.vertex(6),g.vertex(9));"
     ],
     "language": "python",
     "metadata": {},
     "outputs": [],
     "prompt_number": 63
    },
    {
     "cell_type": "code",
     "collapsed": false,
     "input": [
      "g.add_edge(g.vertex(5),g.vertex(6));"
     ],
     "language": "python",
     "metadata": {},
     "outputs": [],
     "prompt_number": 64
    },
    {
     "cell_type": "code",
     "collapsed": false,
     "input": [
      "graph_draw(g, vertex_text=g.vertex_index, vertex_font_size=18,output_size=(200, 200), output=\"two-nodes.png\")"
     ],
     "language": "python",
     "metadata": {},
     "outputs": [
      {
       "metadata": {},
       "output_type": "display_data",
       "png": "[encoded data removed]",
       "text": [
        "<IPython.core.display.Image at 0x7f2384244a50>"
       ]
      },
      {
       "metadata": {},
       "output_type": "pyout",
       "prompt_number": 65,
       "text": [
        "<PropertyMap object with key type 'Vertex' and value type 'vector<double>', for Graph 0x7f2384244a90, at 0x7f2384289ed0>"
       ]
      }
     ],
     "prompt_number": 65
    },
    {
     "cell_type": "code",
     "collapsed": false,
     "input": [
      "def modifycap(g,s,t,go,gn,cap):\n",
      "    \n",
      "    for e in g.edges():\n",
      "        if  e.target()==t:    \n",
      "            cap[e]=cap[e]-2*go+2*gn\n",
      "        \"end\"\n",
      "    \"end for\"\n",
      "    \n",
      "    \n",
      "\"end func\"\n",
      "        \n",
      "        "
     ],
     "language": "python",
     "metadata": {},
     "outputs": [
      {
       "metadata": {},
       "output_type": "pyout",
       "prompt_number": 66,
       "text": [
        "'end func'"
       ]
      }
     ],
     "prompt_number": 66
    },
    {
     "cell_type": "code",
     "collapsed": false,
     "input": [
      "def maxdsubgraph(g,s,t,m,n,cap):\n",
      "    go=0.0;\n",
      "    l=0.0;\n",
      "    u=m;\n",
      "    b=1.0/(n*(n-1));\n",
      "    res=-123;\n",
      "    \n",
      "    print \"Inside MaxdSubgraph\";\n",
      "    \n",
      "    \n",
      "    for e in g.edges():\n",
      "        print cap[e],e.source(),e.target();\n",
      "    \"end for\"\n",
      "    \n",
      "    \n",
      "    \n",
      "    \n",
      "    \n",
      "    while (u-l)>b :\n",
      "        \n",
      "        print \"value of l\",l,\"value of u\",u,\"value of b\",b;\n",
      "        \n",
      "        gn=(u+l)/2;\n",
      "        \n",
      "        modifycap(g,s,t,go,gn,cap);\n",
      "        \n",
      "        print \"yeah done with while\";\n",
      "        \n",
      "        #\"\"\"\n",
      "        \n",
      "        \n",
      "        #get cut\n",
      "        #s=g.vertex(m);\n",
      "        #t=g.vertex(m+1);\n",
      "        \n",
      "        \n",
      "        res23 = push_relabel_max_flow(g, s, t, cap);\n",
      "        \n",
      "        #\"\"\"\n",
      "        part = min_st_cut(g, s, cap, res23);\n",
      "        #\n",
      "        \n",
      "        g.set_vertex_filter(part, inverted=False);\n",
      "        \n",
      "        \n",
      "        \n",
      "        \n",
      "        if g.num_vertices()==1:\n",
      "            print \"u reduced\";\n",
      "            u=gn;\n",
      "            \n",
      "        else :\n",
      "            print \"l increased\";\n",
      "            l=gn;\n",
      "            res=part;\n",
      "        \"end if\"\n",
      "        go=gn;\n",
      "        g.clear_filters();\n",
      "        #\"\"\"\n",
      "    \"end while\"\n",
      "    if(res!=-123):\n",
      "        g.set_vertex_filter(res,inverted=False);\n",
      "    \"end if\"\n",
      "    \n",
      "\n",
      "\"end func\""
     ],
     "language": "python",
     "metadata": {},
     "outputs": [
      {
       "metadata": {},
       "output_type": "pyout",
       "prompt_number": 67,
       "text": [
        "'end func'"
       ]
      }
     ],
     "prompt_number": 67
    },
    {
     "cell_type": "code",
     "collapsed": false,
     "input": [
      "def dsg(g,m,n):\n",
      "    \n",
      "    print \"m \",m,\"n\",n,\"\\n\\n\\n\";\n",
      "    \n",
      "    G=Graph();\n",
      "    \n",
      "    G.add_vertex(n);\n",
      "    \n",
      "    for e in g.edges():\n",
      "        G.add_edge(e.source(),e.target());\n",
      "        G.add_edge(e.target(),e.source());\n",
      "    \"End for\"\n",
      "    \n",
      "    s=G.add_vertex();\n",
      "    t=G.add_vertex();\n",
      "    \n",
      "    \n",
      "  \n",
      "    \n",
      "    for i in range(0,n):\n",
      "        G.add_edge(s,G.vertex(i));\n",
      "        G.add_edge(G.vertex(i),t);\n",
      "    \"End For\"\n",
      "    \n",
      "    \n",
      "    cap = G.new_edge_property(\"float\")                \n",
      "\n",
      "    \n",
      "    \n",
      "    \n",
      "    for e in G.edges():\n",
      "        print \"Source\",e.source(),\"target\",e.target();\n",
      "        \n",
      "        if e.source()==s:\n",
      " #           print \"found source\";\n",
      "            cap[e]=m;\n",
      "        elif e.target()==t:\n",
      " #           print \"found target\";\n",
      "            cap[e]=m-(e.source().in_degree()-1);\n",
      "        else :\n",
      "#            print \"else mei\";\n",
      "            cap[e]=1;\n",
      "        \"end if\"\n",
      "    \"end for\"\n",
      "    \n",
      "    \n",
      "    \n",
      "    for e in G.edges():\n",
      "        print cap[e],e.source(),e.target();\n",
      "    \"end for\"    \n",
      "    \n",
      "    maxdsubgraph(G,s,t,m,n,cap);\n",
      "    \n",
      "    \n",
      "    cap2=g.new_vertex_property(\"bool\");\n",
      "    \n",
      "    \n",
      "    for v in g.vertices():\n",
      "        cap2[v]=False;\n",
      "    \"end\"\n",
      "    \n",
      "    for v in G.vertices():\n",
      "        \n",
      "        if v==s:\n",
      "            \"blah\";\n",
      "                       \n",
      "        else :\n",
      "            \n",
      "            cap2[v]=True;\n",
      "        \"end if\"\n",
      "        \n",
      "    \"end for\"\n",
      "    \n",
      "    #res = boykov_kolmogorov_max_flow(G, s, t, cap);\n",
      "    #part = min_st_cut(G, s, cap, res);\n",
      "    #G.set_vertex_filter(part,inverted=False);\n",
      "    \n",
      "    g.set_vertex_filter(cap2,inverted=False);\n",
      "    \n",
      "    graph_draw(g, vertex_text=g.vertex_index, vertex_font_size=20,output_size=(500, 500), output=\"two-nodes.png\");\n",
      "    \n",
      "    \n",
      "    print \"Density is equal to\",(g.num_edges()*1.0)/g.num_vertices();\n",
      "    \n",
      "\n",
      "\"end def\""
     ],
     "language": "python",
     "metadata": {},
     "outputs": [
      {
       "metadata": {},
       "output_type": "pyout",
       "prompt_number": 68,
       "text": [
        "'end def'"
       ]
      }
     ],
     "prompt_number": 68
    },
    {
     "cell_type": "code",
     "collapsed": false,
     "input": [
      "dsg(g,g.num_edges(),g.num_vertices());"
     ],
     "language": "python",
     "metadata": {},
     "outputs": [
      {
       "output_type": "stream",
       "stream": "stdout",
       "text": [
        "m  12 n 10 \n",
        "\n",
        "\n",
        "\n",
        "Source 0 target 1\n",
        "Source 0 target 11\n",
        "Source 1 target 0\n",
        "Source 1 target 2\n",
        "Source 1 target 4\n",
        "Source 1 target 3\n",
        "Source 1 target 11\n",
        "Source 2 target 1\n",
        "Source 2 target 3\n",
        "Source 2 target 4\n",
        "Source 2 target 5\n",
        "Source 2 target 11\n",
        "Source 3 target 1\n",
        "Source 3 target 2\n",
        "Source 3 target 4\n",
        "Source 3 target 8\n",
        "Source 3 target 11\n",
        "Source 4 target 1\n",
        "Source 4 target 2\n",
        "Source 4 target 3\n",
        "Source 4 target 7\n",
        "Source 4 target 11\n",
        "Source 5 target 2\n",
        "Source 5 target 6\n",
        "Source 5 target 11\n",
        "Source 6 target 5\n",
        "Source 6 target 9\n",
        "Source 6 target 11\n",
        "Source 7 target 4\n",
        "Source 7 target 11\n",
        "Source 8 target 3\n",
        "Source 8 target 11\n",
        "Source 9 target 6\n",
        "Source 9 target 11\n",
        "Source 10 target 0\n",
        "Source 10 target 1\n",
        "Source 10 target 2\n",
        "Source 10 target 3\n",
        "Source 10 target 4\n",
        "Source 10 target 5\n",
        "Source 10 target 6\n",
        "Source 10 target 7\n",
        "Source 10 target 8\n",
        "Source 10 target 9\n",
        "1.0 0 1\n",
        "11.0 0 11\n",
        "1.0 1 0\n",
        "1.0 1 2\n",
        "1.0 1 4\n",
        "1.0 1 3\n",
        "8.0 1 11\n",
        "1.0 2 1\n",
        "1.0 2 3\n",
        "1.0 2 4\n",
        "1.0 2 5\n",
        "8.0 2 11\n",
        "1.0 3 1\n",
        "1.0 3 2\n",
        "1.0 3 4\n",
        "1.0 3 8\n",
        "8.0 3 11\n",
        "1.0 4 1\n",
        "1.0 4 2\n",
        "1.0 4 3\n",
        "1.0 4 7\n",
        "8.0 4 11\n",
        "1.0 5 2\n",
        "1.0 5 6\n",
        "10.0 5 11\n",
        "1.0 6 5\n",
        "1.0 6 9\n",
        "10.0 6 11\n",
        "1.0 7 4\n",
        "11.0 7 11\n",
        "1.0 8 3\n",
        "11.0 8 11\n",
        "1.0 9 6\n",
        "11.0 9 11\n",
        "12.0 10 0\n",
        "12.0 10 1\n",
        "12.0 10 2\n",
        "12.0 10 3\n",
        "12.0 10 4\n",
        "12.0 10 5\n",
        "12.0 10 6\n",
        "12.0 10 7\n",
        "12.0 10 8\n",
        "12.0 10 9\n",
        "Inside MaxdSubgraph\n",
        "1.0 0 1\n",
        "11.0 0 11\n",
        "1.0 1 0\n",
        "1.0 1 2\n",
        "1.0 1 4\n",
        "1.0 1 3\n",
        "8.0 1 11\n",
        "1.0 2 1\n",
        "1.0 2 3\n",
        "1.0 2 4\n",
        "1.0 2 5\n",
        "8.0 2 11\n",
        "1.0 3 1\n",
        "1.0 3 2\n",
        "1.0 3 4\n",
        "1.0 3 8\n",
        "8.0 3 11\n",
        "1.0 4 1\n",
        "1.0 4 2\n",
        "1.0 4 3\n",
        "1.0 4 7\n",
        "8.0 4 11\n",
        "1.0 5 2\n",
        "1.0 5 6\n",
        "10.0 5 11\n",
        "1.0 6 5\n",
        "1.0 6 9\n",
        "10.0 6 11\n",
        "1.0 7 4\n",
        "11.0 7 11\n",
        "1.0 8 3\n",
        "11.0 8 11\n",
        "1.0 9 6\n",
        "11.0 9 11\n",
        "12.0 10 0\n",
        "12.0 10 1\n",
        "12.0 10 2\n",
        "12.0 10 3\n",
        "12.0 10 4\n",
        "12.0 10 5\n",
        "12.0 10 6\n",
        "12.0 10 7\n",
        "12.0 10 8\n",
        "12.0 10 9\n",
        "value of l 0.0 value of u 12 value of b 0.0111111111111\n",
        "yeah done with while\n",
        "u reduced\n",
        "value of l 0.0 value of u 6.0 value of b 0.0111111111111\n",
        "yeah done with while\n",
        "u reduced\n",
        "value of l 0.0 value of u 3.0 value of b 0.0111111111111\n",
        "yeah done with while\n",
        "u reduced\n",
        "value of l 0.0 value of u 1.5 value of b 0.0111111111111\n",
        "yeah done with while\n",
        "l increased\n",
        "value of l 0.75 value of u 1.5 value of b 0.0111111111111\n",
        "yeah done with while\n",
        "l increased\n",
        "value of l 1.125 value of u 1.5 value of b 0.0111111111111\n",
        "yeah done with while\n",
        "l increased\n",
        "value of l 1.3125 value of u 1.5 value of b 0.0111111111111\n",
        "yeah done with while\n",
        "l increased\n",
        "value of l 1.40625 value of u 1.5 value of b 0.0111111111111\n",
        "yeah done with while\n",
        "l increased\n",
        "value of l 1.453125 value of u 1.5 value of b 0.0111111111111\n",
        "yeah done with while\n",
        "l increased\n",
        "value of l 1.4765625 value of u 1.5 value of b 0.0111111111111\n",
        "yeah done with while\n",
        "l increased\n",
        "value of l 1.48828125 value of u 1.5 value of b 0.0111111111111\n",
        "yeah done with while\n",
        "l increased\n"
       ]
      },
      {
       "metadata": {},
       "output_type": "display_data",
       "png": "[encoded data removed]",
       "text": [
        "<IPython.core.display.Image at 0x7f2384210110>"
       ]
      },
      {
       "output_type": "stream",
       "stream": "stdout",
       "text": [
        "Density is equal to 1.5\n"
       ]
      }
     ],
     "prompt_number": 69
    },
    {
     "cell_type": "code",
     "collapsed": false,
     "input": [],
     "language": "python",
     "metadata": {},
     "outputs": [],
     "prompt_number": 21
    },
    {
     "cell_type": "code",
     "collapsed": false,
     "input": [],
     "language": "python",
     "metadata": {},
     "outputs": [],
     "prompt_number": 122
    },
    {
     "cell_type": "code",
     "collapsed": false,
     "input": [],
     "language": "python",
     "metadata": {},
     "outputs": []
    }
   ],
   "metadata": {}
  }
 ]
}